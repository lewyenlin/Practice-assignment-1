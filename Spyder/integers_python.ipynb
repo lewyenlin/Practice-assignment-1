{
 "cells": [
  {
   "cell_type": "markdown",
   "id": "bf0c5569",
   "metadata": {},
   "source": [
    "# Program to print integers 1 to 10 (inclusive)"
   ]
  },
  {
   "cell_type": "markdown",
   "id": "629dc066",
   "metadata": {},
   "source": [
    " **Print integer 1 to 10 wihtout a loop**"
   ]
  },
  {
   "cell_type": "code",
   "execution_count": 1,
   "id": "1ae27d64",
   "metadata": {},
   "outputs": [
    {
     "name": "stdout",
     "output_type": "stream",
     "text": [
      "1 2 3 4 5 6 7 8 9 10\n"
     ]
    }
   ],
   "source": [
    "print(1,2,3,4,5,6,7,8,9,10)"
   ]
  },
  {
   "cell_type": "markdown",
   "id": "1f3e528d",
   "metadata": {},
   "source": [
    "##Print integer 1 to 10 using a for loop (column)"
   ]
  },
  {
   "cell_type": "markdown",
   "id": "c2617efc",
   "metadata": {},
   "source": [
    "Correct way"
   ]
  },
  {
   "cell_type": "code",
   "execution_count": 3,
   "id": "fea0b883",
   "metadata": {},
   "outputs": [
    {
     "name": "stdout",
     "output_type": "stream",
     "text": [
      "1\n",
      "2\n",
      "3\n",
      "4\n",
      "5\n",
      "6\n",
      "7\n",
      "8\n",
      "9\n",
      "10\n"
     ]
    }
   ],
   "source": [
    "for j in range(1,11):  \n",
    "    print(j)"
   ]
  },
  {
   "cell_type": "markdown",
   "id": "b355a695",
   "metadata": {},
   "source": [
    "#correct way, another method(all same line)(row)"
   ]
  },
  {
   "cell_type": "code",
   "execution_count": 4,
   "id": "a2eb49db",
   "metadata": {},
   "outputs": [
    {
     "name": "stdout",
     "output_type": "stream",
     "text": [
      "1 2 3 4 5 6 7 8 9 10 "
     ]
    }
   ],
   "source": [
    "for i in range(1, 11):\n",
    "    print(i, end=\" \")"
   ]
  },
  {
   "cell_type": "markdown",
   "id": "d83e3e0e",
   "metadata": {},
   "source": [
    "Understanding that there is 3 (_,_,_)"
   ]
  },
  {
   "cell_type": "code",
   "execution_count": 6,
   "id": "84806b68",
   "metadata": {},
   "outputs": [
    {
     "name": "stdout",
     "output_type": "stream",
     "text": [
      "1\n",
      "2\n",
      "3\n",
      "4\n",
      "5\n",
      "6\n",
      "7\n",
      "8\n",
      "9\n",
      "10\n"
     ]
    }
   ],
   "source": [
    "for i in range(1, 11 , 1):\n",
    "    print(i)"
   ]
  },
  {
   "cell_type": "code",
   "execution_count": 7,
   "id": "667b9153",
   "metadata": {},
   "outputs": [
    {
     "name": "stdout",
     "output_type": "stream",
     "text": [
      "1\n",
      "3\n",
      "5\n",
      "7\n",
      "9\n"
     ]
    }
   ],
   "source": [
    "for i in range(1, 11 , 2):\n",
    "    print(i)"
   ]
  },
  {
   "cell_type": "markdown",
   "id": "f391a65e",
   "metadata": {},
   "source": [
    "Wrong way"
   ]
  },
  {
   "cell_type": "code",
   "execution_count": 9,
   "id": "7fd73f1b",
   "metadata": {},
   "outputs": [
    {
     "name": "stdout",
     "output_type": "stream",
     "text": [
      "0\n",
      "1\n",
      "2\n",
      "3\n",
      "4\n",
      "5\n",
      "6\n",
      "7\n",
      "8\n",
      "9\n"
     ]
    }
   ],
   "source": [
    "for i in range(10):\n",
    "    print(i)    "
   ]
  },
  {
   "cell_type": "markdown",
   "id": "a51abb05",
   "metadata": {},
   "source": [
    "# Print integers 1 to 10 using a while loop"
   ]
  },
  {
   "cell_type": "code",
   "execution_count": 10,
   "id": "0f141cbc",
   "metadata": {},
   "outputs": [
    {
     "name": "stdout",
     "output_type": "stream",
     "text": [
      "1\n",
      "2\n",
      "3\n",
      "4\n",
      "5\n",
      "6\n",
      "7\n",
      "8\n",
      "9\n",
      "10\n"
     ]
    }
   ],
   "source": [
    "j=1\n",
    "while (j<=10):\n",
    "    print(j)\n",
    "    j=j+1\n",
    "    #j+ =1"
   ]
  }
 ],
 "metadata": {
  "kernelspec": {
   "display_name": "Python 3 (ipykernel)",
   "language": "python",
   "name": "python3"
  },
  "language_info": {
   "codemirror_mode": {
    "name": "ipython",
    "version": 3
   },
   "file_extension": ".py",
   "mimetype": "text/x-python",
   "name": "python",
   "nbconvert_exporter": "python",
   "pygments_lexer": "ipython3",
   "version": "3.9.12"
  }
 },
 "nbformat": 4,
 "nbformat_minor": 5
}
